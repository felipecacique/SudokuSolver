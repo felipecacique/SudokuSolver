{
 "cells": [
  {
   "cell_type": "markdown",
   "metadata": {},
   "source": [
    "# Sudoku Solver\n",
    "Sudoku is known to be a Constraint Satisfactory Problem (CSP). \n",
    "This work implements different algorithms to solve a Sudoku of sizes 9x9, 16x16, and 25x25, including backtracking, arc consistency algorithm (AC3), and some heuristics. \n",
    "This [ notebook demonstrates an example of how to use the developed functions to solve a Sudoku so that you can solve yours! :)"
   ]
  },
  {
   "cell_type": "markdown",
   "metadata": {},
   "source": [
    "### Importing libraries\n",
    "We will import our library sudoku_solver with all needed functions to solve a sudoku"
   ]
  },
  {
   "cell_type": "code",
   "execution_count": 2,
   "metadata": {},
   "outputs": [],
   "source": [
    "# Importing libraries\n",
    "import numpy as np\n",
    "import time\n",
    "import queue\n",
    "import numpy as np\n",
    "import random\n",
    "import copy\n",
    "import sudoku_solver"
   ]
  },
  {
   "cell_type": "markdown",
   "metadata": {},
   "source": [
    "### Creating a sudoku\n",
    "The sudoku can be created as follows the example:\n",
    "\n",
    "sudoku_unsolved=[   \n",
    "                    \n",
    "                    [n,n,3,  n,2,n,  6,n,n],\n",
    "                    [9,n,n,  3,n,5,  n,n,1],\n",
    "                    [n,n,1,  8,n,6,  4,n,n],\n",
    "\n",
    "                    [n,n,8,  1,n,2,  9,n,n],\n",
    "                    [7,n,n,  n,n,n,  n,n,8],\n",
    "                    [n,n,6,  7,n,8,  2,n,n],\n",
    "\n",
    "                    [n,n,2,  6,n,9,  5,n,n],\n",
    "                    [8,n,n,  2,n,3,  n,n,9],\n",
    "                    [n,n,5,  n,1,n,  3,n,n]     ]  \n",
    "                    \n",
    "Where n=\"\".\n",
    "\n",
    "The algorithm supports sudoku of dimentions 9x9, 16x16, 25x25."
   ]
  },
  {
   "cell_type": "code",
   "execution_count": 3,
   "metadata": {},
   "outputs": [],
   "source": [
    "# Create the unsolved sudoku\n",
    "n=\"\"\n",
    "sudoku_unsolved=[   [n,n,3,  n,2,n,  6,n,n],\n",
    "                    [9,n,n,  3,n,5,  n,n,1],\n",
    "                    [n,n,1,  8,n,6,  4,n,n],\n",
    "\n",
    "                    [n,n,8,  1,n,2,  9,n,n],\n",
    "                    [7,n,n,  n,n,n,  n,n,8],\n",
    "                    [n,n,6,  7,n,8,  2,n,n],\n",
    "\n",
    "                    [n,n,2,  6,n,9,  5,n,n],\n",
    "                    [8,n,n,  2,n,3,  n,n,9],\n",
    "                    [n,n,5,  n,1,n,  3,n,n]     ]  \n",
    "\n",
    "sudoku_unsolved = sudoku_solver.FormatSudoku(sudoku_unsolved)\n",
    "# print(sudoku_unsolved)\n",
    "                    "
   ]
  },
  {
   "cell_type": "markdown",
   "metadata": {},
   "source": [
    "Or it can be imported from a csv or txt file. Please, check a model in the folder sudoku_solved, so you can create your own."
   ]
  },
  {
   "cell_type": "code",
   "execution_count": 4,
   "metadata": {},
   "outputs": [],
   "source": [
    "# Importing the unsolved sudoku from csv file\n",
    "\n",
    "filename = \".\\sudoku_unsolved\\Sudoku_9x9_Very_Hard_2 - Sheet1.csv\"\n",
    "# filename = \".\\sudoku_unsolved\\Sudoku_25x25_Very_Hard_3 - Sheet1.csv\"\n",
    "# filename = \".\\sudoku_unsolved\\Sudoku_16x16_Medium_2 - Sheet1.csv\"\n",
    "# filename = \".\\sudoku_unsolved\\Sudoku_25x25_Very_Hard_1 - Sheet1.csv\"\n",
    "\n",
    "sudoku_unsolved=sudoku_solver.ImportSudoku2(filename)"
   ]
  },
  {
   "cell_type": "code",
   "execution_count": 5,
   "metadata": {},
   "outputs": [],
   "source": [
    "# Getting the sudoku's size \n",
    "a =  int(len(sudoku_unsolved)**.5) # sudoku size (eg., 3x3, 4x4, 5x5)\n",
    "n = int(len(sudoku_unsolved)) # number of columns x rows (eg., 9X9, 16x16, 25x25)"
   ]
  },
  {
   "cell_type": "code",
   "execution_count": 6,
   "metadata": {},
   "outputs": [
    {
     "name": "stdout",
     "output_type": "stream",
     "text": [
      "- - 7 - - 5 9 8 - \n",
      "- 5 - - - - - - 3 \n",
      "- - - - 4 2 7 - - \n",
      "3 - 8 - 6 - - - 7 \n",
      "- 9 - 4 - - - - - \n",
      "4 - 5 - 8 - - - 6 \n",
      "- - - - 3 9 2 - - \n",
      "- 7 - - - - - - 1 \n",
      "- - 3 - - 4 6 5 - \n"
     ]
    }
   ],
   "source": [
    "# At every interaction, the algorithm changes the sudoku object. In order to preserve the original we will do a copy.\n",
    "sudoku = copy.deepcopy(sudoku_unsolved)\n",
    "# Create the Constraint Satisfactory Problem (CSP) object. It will be usd by the solver algorithms\n",
    "csp=sudoku_solver.Csp()\n",
    "# Fill de csp object with the given sudoku\n",
    "sudoku_solver.SudokuToCsp(sudoku,csp,a)\n",
    "# Print the sudoku\n",
    "sudoku_solver.PrintSolvedSudoku(csp,sudoku)"
   ]
  },
  {
   "cell_type": "markdown",
   "metadata": {},
   "source": [
    "### Solving the sudoku\n",
    "We will solve the sudoku by 3 different ways:\n",
    "* Backtracking without heuristics\n",
    "* Backtracking with heuristics\n",
    "* AC_3 + Backtracking\n",
    "* AC_3 + Heuristics + Backtracking (fastest)"
   ]
  },
  {
   "cell_type": "markdown",
   "metadata": {},
   "source": [
    "* Using Backtracking without heuristics"
   ]
  },
  {
   "cell_type": "code",
   "execution_count": 7,
   "metadata": {},
   "outputs": [
    {
     "data": {
      "text/plain": [
       "'Backtracking without heuristics'"
      ]
     },
     "execution_count": 7,
     "metadata": {},
     "output_type": "execute_result"
    }
   ],
   "source": [
    "\"Backtracking without heuristics\"\n",
    "# sudoku = copy.deepcopy(sudoku_unsolved)\n",
    "# csp=sudoku_solver.Csp()\n",
    "# sudoku_solver.SudokuToCsp(sudoku,csp,a)\n",
    "# sudoku_solver.Backtrack_Search(csp, ac_3=False, heuristics = False)\n",
    "# sudoku_solver.PrintSolvedSudoku(csp,sudoku)\n"
   ]
  },
  {
   "cell_type": "markdown",
   "metadata": {},
   "source": [
    "* Using Backtracking with heuristics"
   ]
  },
  {
   "cell_type": "code",
   "execution_count": 8,
   "metadata": {},
   "outputs": [
    {
     "data": {
      "text/plain": [
       "'Backtracking with heuristics'"
      ]
     },
     "execution_count": 8,
     "metadata": {},
     "output_type": "execute_result"
    }
   ],
   "source": [
    "\"Backtracking with heuristics\"\n",
    "# sudoku = copy.deepcopy(sudoku_unsolved)\n",
    "# csp=sudoku_solver.Csp()\n",
    "# sudoku_solver.SudokuToCsp(sudoku,csp,a)\n",
    "# sudoku_solver.Backtrack_Search(csp, ac_3=False, heuristics = True)\n",
    "# sudoku_solver.PrintSolvedSudoku(csp,sudoku)"
   ]
  },
  {
   "cell_type": "markdown",
   "metadata": {},
   "source": [
    "* Using AC_3 + Backtracking"
   ]
  },
  {
   "cell_type": "code",
   "execution_count": 9,
   "metadata": {},
   "outputs": [
    {
     "data": {
      "text/plain": [
       "'AC_3 + Backtracking'"
      ]
     },
     "execution_count": 9,
     "metadata": {},
     "output_type": "execute_result"
    }
   ],
   "source": [
    "\"AC_3 + Backtracking\"\n",
    "# sudoku = copy.deepcopy(sudoku_unsolved)\n",
    "# csp=sudoku_solver.Csp()\n",
    "# sudoku_solver.SudokuToCsp(sudoku,csp,a)\n",
    "# sudoku_solver.AC_3(csp)\n",
    "# print(\"n_domain:\", sudoku_solver.n_domain_complete(csp))\n",
    "# sudoku_solver.Backtrack_Search(csp, ac_3=True, heuristics = False)\n",
    "# print(\"n_domain:\", sudoku_solver.n_domain_complete(csp))\n",
    "# sudoku_solver.PrintSolvedSudoku(csp,sudoku)"
   ]
  },
  {
   "cell_type": "markdown",
   "metadata": {},
   "source": [
    "* Using AC_3 + Heuristics + Backtracking (fastest)"
   ]
  },
  {
   "cell_type": "code",
   "execution_count": 10,
   "metadata": {},
   "outputs": [
    {
     "name": "stdout",
     "output_type": "stream",
     "text": [
      "AC_3  Initial:  (28, 477)\n",
      "\n",
      "AC_3  True (40, 107) 0.109375\n",
      "NSO  True (43, 101) 0.0\n",
      "PS True (44, 99) 0.0\n",
      "SE False (44, 99) 0.0\n",
      "\n",
      "AC_3  True (44, 93) 0.0\n",
      "NSO  True (45, 90) 0.0\n",
      "PS False (45, 90) 0.0\n",
      "SE False (45, 90) 0.015625\n",
      "\n",
      "AC_3  True (45, 90) 0.0\n",
      "NSO  True (45, 90) 0.0\n",
      "PS False (45, 90) 0.0\n",
      "SE False (45, 90) 0.0\n",
      "BCRI False (45, 90) 0.015625\n",
      "True\n",
      "{}\n",
      "(81, 0)\n"
     ]
    }
   ],
   "source": [
    "\"AC_3 + Heuristics + Backtracking\"\n",
    "# At every interaction, the algorithm changes the sudoku object. In order to preserve the original we will do a copy.\n",
    "sudoku = copy.deepcopy(sudoku_unsolved)\n",
    "# Create the Constraint Satisfactory Problem (CSP) object. It will be usd by the solver algorithms\n",
    "csp=sudoku_solver.Csp()\n",
    "# Fill de csp object with the given sudoku\n",
    "sudoku_solver.SudokuToCsp(sudoku,csp,a)\n",
    "# Do the AC_3 + Heuristics + Backtracking\n",
    "print(sudoku_solver.AC_3_and_Heuristics(csp,a))\n",
    "# If the sudoku was not solved yet, do the Backtracking\n",
    "print(sudoku_solver.Backtrack_Search(csp, ac_3=True, heuristics = False))\n",
    "# Count how many sudoku blocks is already solved\n",
    "print(sudoku_solver.n_domain_complete(csp))\n",
    "\n",
    "# sudoku_solver.PrintSolvedSudoku(csp,sudoku)"
   ]
  },
  {
   "cell_type": "markdown",
   "metadata": {},
   "source": [
    "### Print the solved sudoku"
   ]
  },
  {
   "cell_type": "code",
   "execution_count": 11,
   "metadata": {},
   "outputs": [
    {
     "name": "stdout",
     "output_type": "stream",
     "text": [
      "6 4 7 3 1 5 9 8 2 \n",
      "1 5 2 7 9 8 4 6 3 \n",
      "8 3 9 6 4 2 7 1 5 \n",
      "3 2 8 9 6 1 5 4 7 \n",
      "7 9 6 4 5 3 1 2 8 \n",
      "4 1 5 2 8 7 3 9 6 \n",
      "5 6 1 8 3 9 2 7 4 \n",
      "9 7 4 5 2 6 8 3 1 \n",
      "2 8 3 1 7 4 6 5 9 \n"
     ]
    }
   ],
   "source": [
    "# Print the solved sudoku\n",
    "sudoku_solver.PrintSolvedSudoku(csp,sudoku)"
   ]
  },
  {
   "cell_type": "markdown",
   "metadata": {},
   "source": []
  }
 ],
 "metadata": {
  "kernelspec": {
   "display_name": "Python 3",
   "language": "python",
   "name": "python3"
  },
  "language_info": {
   "codemirror_mode": {
    "name": "ipython",
    "version": 3
   },
   "file_extension": ".py",
   "mimetype": "text/x-python",
   "name": "python",
   "nbconvert_exporter": "python",
   "pygments_lexer": "ipython3",
   "version": "3.11.2"
  },
  "orig_nbformat": 4
 },
 "nbformat": 4,
 "nbformat_minor": 2
}
