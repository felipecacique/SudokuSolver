{
 "cells": [
  {
   "cell_type": "markdown",
   "metadata": {},
   "source": [
    "# Sudoku Solver\n",
    "Sudoku is known to be a Constraint Satisfactory Problem (CSP). This work implements diferent algorithms to solve a Sudoku of sizes 9x9, 16x16, 25x25, including backtracking, arc consistency algorithm (AC3), and some heuristics. This notebook demonstrates an example of how use the developed functions to solve a sudoku, so that you can solve yours! :)\n"
   ]
  },
  {
   "cell_type": "markdown",
   "metadata": {},
   "source": [
    "### Importing libraries\n",
    "We will import our library sudoku_solver with all needed functions to solve a sudoku"
   ]
  },
  {
   "cell_type": "code",
   "execution_count": 33,
   "metadata": {},
   "outputs": [],
   "source": [
    "# Importing libraries\n",
    "import numpy as np\n",
    "import time\n",
    "import queue\n",
    "import numpy as np\n",
    "import random\n",
    "import copy\n",
    "import sudoku_solver"
   ]
  },
  {
   "cell_type": "markdown",
   "metadata": {},
   "source": [
    "### Creating a sudoku\n",
    "The sudoku can be created as follows the example:\n",
    "\n",
    "sudoku_unsolved=[   \n",
    "                    \n",
    "                    [n,n,3,  n,2,n,  6,n,n],\n",
    "                    [9,n,n,  3,n,5,  n,n,1],\n",
    "                    [n,n,1,  8,n,6,  4,n,n],\n",
    "\n",
    "                    [n,n,8,  1,n,2,  9,n,n],\n",
    "                    [7,n,n,  n,n,n,  n,n,8],\n",
    "                    [n,n,6,  7,n,8,  2,n,n],\n",
    "\n",
    "                    [n,n,2,  6,n,9,  5,n,n],\n",
    "                    [8,n,n,  2,n,3,  n,n,9],\n",
    "                    [n,n,5,  n,1,n,  3,n,n]     ]  \n",
    "                    \n",
    "Where n=\"\".\n",
    "\n",
    "The algorithm supports sudoku of dimentions 9x9, 16x16, 25x25."
   ]
  },
  {
   "cell_type": "code",
   "execution_count": 34,
   "metadata": {},
   "outputs": [],
   "source": [
    "# Create the unsolved sudoku\n",
    "n=\"\"\n",
    "sudoku_unsolved=[   [n,n,3,  n,2,n,  6,n,n],\n",
    "                    [9,n,n,  3,n,5,  n,n,1],\n",
    "                    [n,n,1,  8,n,6,  4,n,n],\n",
    "\n",
    "                    [n,n,8,  1,n,2,  9,n,n],\n",
    "                    [7,n,n,  n,n,n,  n,n,8],\n",
    "                    [n,n,6,  7,n,8,  2,n,n],\n",
    "\n",
    "                    [n,n,2,  6,n,9,  5,n,n],\n",
    "                    [8,n,n,  2,n,3,  n,n,9],\n",
    "                    [n,n,5,  n,1,n,  3,n,n]     ]  \n",
    "\n",
    "sudoku_unsolved = sudoku_solver.FormatSudoku(sudoku_unsolved)\n",
    "# print(sudoku_unsolved)\n",
    "                    "
   ]
  },
  {
   "cell_type": "markdown",
   "metadata": {},
   "source": [
    "Or it can be imported from a csv or txt file. Please, check a model in the folder sudoku_solved, so you can create your own."
   ]
  },
  {
   "cell_type": "code",
   "execution_count": 35,
   "metadata": {},
   "outputs": [],
   "source": [
    "# Importing the unsolved sudoku from csv file\n",
    "\n",
    "# filename = \".\\sudoku_unsolved\\Sudoku_9x9_Very_Hard_2 - Sheet1.csv\"\n",
    "# filename = \".\\sudoku_unsolved\\Sudoku_25x25_Very_Hard_3 - Sheet1.csv\"\n",
    "# filename = \".\\sudoku_unsolved\\Sudoku_16x16_Medium_2 - Sheet1.csv\"\n",
    "filename = \".\\sudoku_unsolved\\Sudoku_25x25_Very_Hard_1 - Sheet1.csv\"\n",
    "\n",
    "sudoku_unsolved=sudoku_solver.ImportSudoku2(filename)"
   ]
  },
  {
   "cell_type": "code",
   "execution_count": 36,
   "metadata": {},
   "outputs": [],
   "source": [
    "# Getting the sudoku's size \n",
    "a =  int(len(sudoku_unsolved)**.5) # sudoku size (eg., 3x3, 4x4, 5x5)\n",
    "n = int(len(sudoku_unsolved)) # number of columns x rows (eg., 9X9, 16x16, 25x25)"
   ]
  },
  {
   "cell_type": "code",
   "execution_count": 37,
   "metadata": {},
   "outputs": [
    {
     "name": "stdout",
     "output_type": "stream",
     "text": [
      "A - 8 - I - - - - 5 - K - - P M - - 6 H - - D E N \n",
      "- - F - - - L - C P J - 1 - 9 K - - - - - - 2 - B \n",
      "- 3 N - - - - - 6 M 2 - - - F B 1 O - - H P - - 9 \n",
      "- - E B - - - - 9 - C - 5 N - - - 2 - P I - - - - \n",
      "- - - - - A N J B - H D 4 - 7 - E - - - - - 8 - - \n",
      "- - - P C - O I - J - B - - - - - - 1 E - - H N - \n",
      "N M G A O - 1 - - - - - H J - 2 9 - K - - I - 3 F \n",
      "- J 4 - D 9 6 P - 8 M I 7 K - 5 - L - - - - C - - \n",
      "- 5 I - - - - K - - L - - P - D C H B F - 6 A - 1 \n",
      "E - - - K - C 4 - A 6 2 - - 1 - N - - - D - 5 P L \n",
      "I - - - - L - 2 7 - G 3 P - - - O - - - - - M 4 - \n",
      "- K - - G 8 - O - N 1 5 - - - - D A - - 3 B - - - \n",
      "5 - O - L K - - A - - - - - - - B - - 3 E - J - C \n",
      "- - - N J - - B P - - - - I L 6 - 4 - C G - - 5 - \n",
      "- A D - - - - - G - - - M 7 2 - L N - 1 - - - - 8 \n",
      "D 4 5 - 8 - - - H - I - - F A E - 3 C - M - - - 7 \n",
      "B - C O - J G M 2 6 - 1 - - H - - 9 - - - - F D - \n",
      "- - H - - - - 7 - K - J L B D 4 - F M I 5 - N 6 - \n",
      "2 7 - J - - I - 3 9 - P C - - - - - G - K O 1 H A \n",
      "- N 9 - - 5 4 - - - - - - 2 - L - 1 J - B 3 - - - \n",
      "- - K - - - - - O - P - 9 H I - 2 D N G - - - - - \n",
      "- - - - 6 P - D - - - G N - 3 - K - - - - E B - - \n",
      "7 - - 2 9 - - 6 E G D - - - K J 3 - - - - - P I - \n",
      "G - A - - - - - - 1 5 - B - J H 7 - P - - - 6 - - \n",
      "P B J - - M F - - 7 E - - O - 9 - - - - 1 - L - 3 \n"
     ]
    }
   ],
   "source": [
    "# At every interaction, the algorithm changes the sudoku object. In order to preserve the original we will do a copy.\n",
    "sudoku = copy.deepcopy(sudoku_unsolved)\n",
    "# Create the Constraint Satisfactory Problem (CSP) object. It will be usd by the solver algorithms\n",
    "csp=sudoku_solver.Csp()\n",
    "# Fill de csp object with the given sudoku\n",
    "sudoku_solver.SudokuToCsp(sudoku,csp,a)\n",
    "# Print the sudoku\n",
    "sudoku_solver.PrintSolvedSudoku(csp,sudoku)"
   ]
  },
  {
   "cell_type": "markdown",
   "metadata": {},
   "source": [
    "### Solving the sudoku\n",
    "We will solve the sudoku by 3 different ways:\n",
    "* Backtracking without heuristics\n",
    "* Backtracking with heuristics\n",
    "* AC_3 + Backtracking\n",
    "* AC_3 + Heuristics + Backtracking (fastest)"
   ]
  },
  {
   "cell_type": "markdown",
   "metadata": {},
   "source": [
    "* Using Backtracking without heuristics"
   ]
  },
  {
   "cell_type": "code",
   "execution_count": 38,
   "metadata": {},
   "outputs": [
    {
     "data": {
      "text/plain": [
       "'Backtracking without heuristics'"
      ]
     },
     "execution_count": 38,
     "metadata": {},
     "output_type": "execute_result"
    }
   ],
   "source": [
    "\"Backtracking without heuristics\"\n",
    "# sudoku = copy.deepcopy(sudoku_unsolved)\n",
    "# csp=sudoku_solver.Csp()\n",
    "# sudoku_solver.SudokuToCsp(sudoku,csp,a)\n",
    "# sudoku_solver.Backtrack_Search(csp, ac_3=False, heuristics = False)\n",
    "# sudoku_solver.PrintSolvedSudoku(csp,sudoku)\n"
   ]
  },
  {
   "cell_type": "markdown",
   "metadata": {},
   "source": [
    "* Using Backtracking with heuristics"
   ]
  },
  {
   "cell_type": "code",
   "execution_count": 39,
   "metadata": {},
   "outputs": [
    {
     "data": {
      "text/plain": [
       "'Backtracking with heuristics'"
      ]
     },
     "execution_count": 39,
     "metadata": {},
     "output_type": "execute_result"
    }
   ],
   "source": [
    "\"Backtracking with heuristics\"\n",
    "# sudoku = copy.deepcopy(sudoku_unsolved)\n",
    "# csp=sudoku_solver.Csp()\n",
    "# sudoku_solver.SudokuToCsp(sudoku,csp,a)\n",
    "# sudoku_solver.Backtrack_Search(csp, ac_3=False, heuristics = True)\n",
    "# sudoku_solver.PrintSolvedSudoku(csp,sudoku)"
   ]
  },
  {
   "cell_type": "markdown",
   "metadata": {},
   "source": [
    "* Using AC_3 + Backtracking"
   ]
  },
  {
   "cell_type": "code",
   "execution_count": 40,
   "metadata": {},
   "outputs": [
    {
     "data": {
      "text/plain": [
       "'AC_3 + Backtracking'"
      ]
     },
     "execution_count": 40,
     "metadata": {},
     "output_type": "execute_result"
    }
   ],
   "source": [
    "\"AC_3 + Backtracking\"\n",
    "# sudoku = copy.deepcopy(sudoku_unsolved)\n",
    "# csp=sudoku_solver.Csp()\n",
    "# sudoku_solver.SudokuToCsp(sudoku,csp,a)\n",
    "# sudoku_solver.AC_3(csp)\n",
    "# print(\"n_domain:\", sudoku_solver.n_domain_complete(csp))\n",
    "# sudoku_solver.Backtrack_Search(csp, ac_3=True, heuristics = False)\n",
    "# print(\"n_domain:\", sudoku_solver.n_domain_complete(csp))\n",
    "# sudoku_solver.PrintSolvedSudoku(csp,sudoku)"
   ]
  },
  {
   "cell_type": "markdown",
   "metadata": {},
   "source": [
    "* Using AC_3 + Heuristics + Backtracking (fastest)"
   ]
  },
  {
   "cell_type": "code",
   "execution_count": 41,
   "metadata": {},
   "outputs": [
    {
     "name": "stdout",
     "output_type": "stream",
     "text": [
      "AC_3  Initial:  (286, 8475)\n",
      "\n"
     ]
    },
    {
     "name": "stdout",
     "output_type": "stream",
     "text": [
      "AC_3  True (286, 1844) 3.484375\n",
      "NSO  True (308, 1725) 0.015625\n",
      "PS False (308, 1725) 0.0\n",
      "SE False (308, 1725) 0.015625\n",
      "\n",
      "AC_3  True (318, 1572) 0.28125\n",
      "NSO  True (328, 1525) 0.015625\n",
      "PS True (328, 1521) 0.0\n",
      "SE False (328, 1521) 0.0\n",
      "\n",
      "AC_3  True (328, 1489) 0.234375\n",
      "NSO  True (336, 1456) 0.015625\n",
      "PS True (336, 1452) 0.0\n",
      "SE False (336, 1452) 0.015625\n",
      "\n",
      "AC_3  True (336, 1423) 0.203125\n",
      "NSO  True (337, 1418) 0.015625\n",
      "PS True (337, 1417) 0.0\n",
      "SE False (337, 1417) 0.0\n",
      "\n",
      "AC_3  True (337, 1416) 0.234375\n",
      "NSO  True (337, 1416) 0.015625\n",
      "PS False (337, 1416) 0.0\n",
      "SE False (337, 1416) 0.015625\n",
      "BCRI True (339, 1381) 1.5625\n",
      "\n",
      "AC_3  True (342, 1333) 0.265625\n",
      "NSO  True (348, 1308) 0.015625\n",
      "PS True (348, 1307) 0.0\n",
      "SE False (348, 1307) 0.0\n",
      "\n",
      "AC_3  True (348, 1291) 0.21875\n",
      "NSO  True (349, 1286) 0.015625\n",
      "PS True (349, 1285) 0.0\n",
      "SE False (349, 1285) 0.0\n",
      "\n",
      "AC_3  True (349, 1279) 0.203125\n",
      "NSO  True (349, 1279) 0.015625\n",
      "PS True (350, 1271) 0.0\n",
      "SE False (350, 1271) 0.0\n",
      "\n",
      "AC_3  True (351, 1257) 0.296875\n",
      "NSO  True (354, 1246) 0.03125\n",
      "PS False (354, 1246) 0.015625\n",
      "SE False (354, 1246) 0.0\n",
      "\n",
      "AC_3  True (354, 1230) 0.25\n",
      "NSO  True (354, 1230) 0.015625\n",
      "PS False (354, 1230) 0.015625\n",
      "SE False (354, 1230) 0.0\n",
      "BCRI True (355, 1223) 1.546875\n",
      "\n",
      "AC_3  True (358, 1201) 0.203125\n",
      "NSO  True (359, 1199) 0.0\n",
      "PS True (359, 1196) 0.0\n",
      "SE False (359, 1196) 0.015625\n",
      "\n",
      "AC_3  True (359, 1190) 0.1875\n",
      "NSO  True (359, 1190) 0.0\n",
      "PS True (359, 1189) 0.0\n",
      "SE False (359, 1189) 0.015625\n",
      "\n",
      "AC_3  True (359, 1189) 0.171875\n",
      "NSO  True (360, 1187) 0.015625\n",
      "PS True (361, 1185) 0.0\n",
      "SE False (361, 1185) 0.0\n",
      "\n",
      "AC_3  True (365, 1142) 0.234375\n",
      "NSO  True (368, 1136) 0.015625\n",
      "PS True (368, 1135) 0.0\n",
      "SE False (368, 1135) 0.0\n",
      "\n",
      "AC_3  True (369, 1118) 0.21875\n",
      "NSO  True (372, 1110) 0.0\n",
      "PS True (373, 1106) 0.015625\n",
      "SE False (373, 1106) 0.0\n",
      "\n",
      "AC_3  True (373, 1091) 0.1875\n",
      "NSO  True (377, 1080) 0.0\n",
      "PS False (377, 1080) 0.015625\n",
      "SE False (377, 1080) 0.0\n",
      "\n",
      "AC_3  True (379, 1050) 0.21875\n",
      "NSO  True (379, 1050) 0.0\n",
      "PS True (381, 1044) 0.0\n",
      "SE False (381, 1044) 0.015625\n",
      "\n",
      "AC_3  True (383, 1021) 0.171875\n",
      "NSO  True (384, 1015) 0.015625\n",
      "PS True (384, 1014) 0.0\n",
      "SE False (384, 1014) 0.0\n",
      "\n",
      "AC_3  True (384, 1010) 0.203125\n",
      "NSO  True (386, 999) 0.015625\n",
      "PS False (386, 999) 0.0\n",
      "SE False (386, 999) 0.015625\n",
      "\n",
      "AC_3  True (387, 986) 0.203125\n",
      "NSO  True (389, 976) 0.015625\n",
      "PS True (389, 975) 0.0\n",
      "SE False (389, 975) 0.0\n",
      "\n",
      "AC_3  True (390, 962) 0.203125\n",
      "NSO  True (393, 954) 0.0\n",
      "PS True (394, 952) 0.015625\n",
      "SE False (394, 952) 0.0\n",
      "\n",
      "AC_3  True (400, 916) 0.25\n",
      "NSO  True (405, 895) 0.015625\n",
      "PS True (406, 888) 0.0\n",
      "SE False (406, 888) 0.015625\n",
      "\n",
      "AC_3  True (409, 845) 0.21875\n",
      "NSO  True (411, 840) 0.015625\n",
      "PS True (411, 838) 0.0\n",
      "SE False (411, 838) 0.0\n",
      "\n",
      "AC_3  True (411, 833) 0.171875\n",
      "NSO  True (414, 823) 0.015625\n",
      "PS True (414, 820) 0.0\n",
      "SE False (414, 820) 0.0\n",
      "\n",
      "AC_3  True (431, 741) 0.21875\n",
      "NSO  True (442, 703) 0.015625\n",
      "PS True (443, 700) 0.0\n",
      "SE False (443, 700) 0.0\n",
      "\n",
      "AC_3  True (444, 669) 0.1875\n",
      "NSO  True (448, 653) 0.015625\n",
      "PS True (448, 651) 0.0\n",
      "SE False (448, 651) 0.0\n",
      "\n",
      "AC_3  True (449, 640) 0.203125\n",
      "NSO  True (449, 640) 0.015625\n",
      "PS True (450, 615) 0.0\n",
      "SE False (450, 615) 0.0\n",
      "\n",
      "AC_3  True (450, 612) 0.171875\n",
      "NSO  True (455, 600) 0.015625\n",
      "PS True (455, 597) 0.0\n",
      "SE False (455, 597) 0.0\n",
      "\n",
      "AC_3  True (455, 589) 0.1875\n",
      "NSO  True (455, 589) 0.015625\n",
      "PS True (455, 583) 0.0\n",
      "SE False (455, 583) 0.0\n",
      "\n",
      "AC_3  True (455, 583) 0.203125\n",
      "NSO  True (456, 578) 0.015625\n",
      "PS False (456, 578) 0.015625\n",
      "SE False (456, 578) 0.0\n",
      "\n",
      "AC_3  True (456, 573) 0.171875\n",
      "NSO  True (456, 573) 0.015625\n",
      "PS False (456, 573) 0.015625\n",
      "SE False (456, 573) 0.0\n",
      "BCRI True (456, 569) 1.4375\n",
      "\n",
      "AC_3  True (456, 569) 0.1875\n",
      "NSO  True (456, 569) 0.0\n",
      "PS False (456, 569) 0.015625\n",
      "SE False (456, 569) 0.0\n",
      "BCRI False (456, 569) 1.5625\n",
      "True\n",
      "{}\n",
      "(625, 0)\n"
     ]
    }
   ],
   "source": [
    "\"AC_3 + Heuristics + Backtracking\"\n",
    "# At every interaction, the algorithm changes the sudoku object. In order to preserve the original we will do a copy.\n",
    "sudoku = copy.deepcopy(sudoku_unsolved)\n",
    "# Create the Constraint Satisfactory Problem (CSP) object. It will be usd by the solver algorithms\n",
    "csp=sudoku_solver.Csp()\n",
    "# Fill de csp object with the given sudoku\n",
    "sudoku_solver.SudokuToCsp(sudoku,csp,a)\n",
    "# Do the AC_3 + Heuristics + Backtracking\n",
    "print(sudoku_solver.AC_3_and_Heuristics(csp,a))\n",
    "# If the sudoku was not solved yet, do the Backtracking\n",
    "print(sudoku_solver.Backtrack_Search(csp, ac_3=True, heuristics = False))\n",
    "# Count how many sudoku blocks is already solved\n",
    "print(sudoku_solver.n_domain_complete(csp))\n",
    "\n",
    "# sudoku_solver.PrintSolvedSudoku(csp,sudoku)"
   ]
  },
  {
   "cell_type": "markdown",
   "metadata": {},
   "source": [
    "### Print the solved sudoku"
   ]
  },
  {
   "cell_type": "code",
   "execution_count": 42,
   "metadata": {},
   "outputs": [
    {
     "name": "stdout",
     "output_type": "stream",
     "text": [
      "A 9 8 4 I 7 2 3 1 5 B K O G P M F C 6 H L J D E N \n",
      "M D F 6 7 I L H C P J E 1 3 9 K 8 G 4 N A 5 2 O B \n",
      "J 3 N L 5 4 E G 6 M 2 A I 8 F B 1 O D 7 H P K C 9 \n",
      "1 O E B H F K 8 9 D C M 5 N 6 A J 2 L P I 4 3 7 G \n",
      "K G P C 2 A N J B O H D 4 L 7 3 E I 9 5 6 F 8 1 M \n",
      "L 6 2 P C 3 O I 5 J F B D A G 7 4 M 1 E 9 8 H N K \n",
      "N M G A O D 1 E L B 8 C H J 5 2 9 P K 6 7 I 4 3 F \n",
      "H J 4 1 D 9 6 P F 8 M I 7 K N 5 G L 3 A O 2 C B E \n",
      "9 5 I 8 3 G 7 K N 2 L 4 E P O D C H B F J 6 A M 1 \n",
      "E F B 7 K H C 4 M A 6 2 3 9 1 O N J I 8 D G 5 P L \n",
      "I C 6 9 1 L 5 2 7 E G 3 P D B F O K 8 J N A M 4 H \n",
      "F K 7 H G 8 M O 4 N 1 5 J C E P D A 2 9 3 B I L 6 \n",
      "5 P O M L K D 9 A I 4 N F 6 8 G B 7 H 3 E 1 J 2 C \n",
      "8 2 3 N J 1 H B P F A 9 K I L 6 M 4 E C G 7 O 5 D \n",
      "4 A D E B 6 J C G 3 O H M 7 2 I L N 5 1 P K 9 F 8 \n",
      "D 4 5 K 8 N B 1 H L I O 6 F A E P 3 C 2 M 9 G J 7 \n",
      "B I C O A J G M 2 6 3 1 8 E H N 5 9 7 K 4 L F D P \n",
      "3 1 H G E O P 7 8 K 9 J L B D 4 A F M I 5 C N 6 2 \n",
      "2 7 L J M E I F 3 9 N P C 5 4 8 6 B G D K O 1 H A \n",
      "6 N 9 F P 5 4 A D C K 7 G 2 M L H 1 J O B 3 E 8 I \n",
      "C E K 5 F B 3 L O 4 P 6 9 H I 1 2 D N G 8 M 7 A J \n",
      "O L 1 I 6 P A D J H 7 G N 4 3 C K 8 F M 2 E B 9 5 \n",
      "7 H M 2 9 C 8 6 E G D L A 1 K J 3 5 O B F N P I 4 \n",
      "G 8 A 3 4 2 9 N I 1 5 F B M J H 7 E P L C D 6 K O \n",
      "P B J D N M F 5 K 7 E 8 2 O C 9 I 6 A 4 1 H L G 3 \n"
     ]
    }
   ],
   "source": [
    "# Print the solved sudoku\n",
    "sudoku_solver.PrintSolvedSudoku(csp,sudoku)"
   ]
  },
  {
   "cell_type": "markdown",
   "metadata": {},
   "source": []
  }
 ],
 "metadata": {
  "kernelspec": {
   "display_name": "Python 3",
   "language": "python",
   "name": "python3"
  },
  "language_info": {
   "codemirror_mode": {
    "name": "ipython",
    "version": 3
   },
   "file_extension": ".py",
   "mimetype": "text/x-python",
   "name": "python",
   "nbconvert_exporter": "python",
   "pygments_lexer": "ipython3",
   "version": "3.11.2"
  },
  "orig_nbformat": 4
 },
 "nbformat": 4,
 "nbformat_minor": 2
}
