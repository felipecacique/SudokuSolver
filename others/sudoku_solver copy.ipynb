{
 "cells": [
  {
   "cell_type": "code",
   "execution_count": 1,
   "metadata": {},
   "outputs": [],
   "source": [
    "# Importing libraries\n",
    "import numpy as np\n",
    "import time\n",
    "import queue\n",
    "import numpy as np\n",
    "import random\n",
    "import copy\n",
    "import sudoku_solver"
   ]
  },
  {
   "cell_type": "code",
   "execution_count": 2,
   "metadata": {},
   "outputs": [],
   "source": [
    "# Create the unsolved sudoku\n",
    "a = 3\n",
    "n=None\n",
    "sudoku_unsolved=[   [n,n,3,  n,2,n,  6,n,n],\n",
    "                    [9,n,n,  3,n,5,  n,n,1],\n",
    "                    [n,n,1,  8,n,6,  4,n,n],\n",
    "\n",
    "                    [n,n,8,  1,n,2,  9,n,n],\n",
    "                    [7,n,n,  n,n,n,  n,n,8],\n",
    "                    [n,n,6,  7,n,8,  2,n,n],\n",
    "\n",
    "                    [n,n,2,  6,n,9,  5,n,n],\n",
    "                    [8,n,n,  2,n,3,  n,n,9],\n",
    "                    [n,n,5,  n,1,n,  3,n,n]     ]  \n",
    "\n",
    "\n",
    "sudoku_unsolved=[   [5,8,6,  n,7,2,  n,n,n],\n",
    "                    [n,n,n,  9,n,1,  6,n,n],\n",
    "                    [n,n,n,  6,n,n,  n,n,n],\n",
    "\n",
    "                    [n,n,7,  n,n,n,  n,n,n],\n",
    "                    [9,n,2,  n,1,n,  3,n,5],\n",
    "                    [n,n,5,  n,9,n,  n,n,n],\n",
    "\n",
    "                    [n,9,n,  n,4,n,  n,n,8],\n",
    "                    [n,n,3,  5,n,n,  n,6,n],\n",
    "                    [n,n,n,  n,2,n,  4,7,n]     ]  "
   ]
  },
  {
   "cell_type": "code",
   "execution_count": 3,
   "metadata": {},
   "outputs": [
    {
     "ename": "NameError",
     "evalue": "name 'n' is not defined",
     "output_type": "error",
     "traceback": [
      "\u001b[1;31m---------------------------------------------------------------------------\u001b[0m",
      "\u001b[1;31mNameError\u001b[0m                                 Traceback (most recent call last)",
      "Cell \u001b[1;32mIn[3], line 10\u001b[0m\n\u001b[0;32m      1\u001b[0m text \u001b[39m=\u001b[39m \u001b[39m\"\"\"\u001b[39m\u001b[39m1,8,,,,,,6,4\u001b[39m\n\u001b[0;32m      2\u001b[0m \u001b[39m,7,,6,,5,,8,\u001b[39m\n\u001b[0;32m      3\u001b[0m \u001b[39m,,6,,8,,7,,\u001b[39m\n\u001b[1;32m   (...)\u001b[0m\n\u001b[0;32m      8\u001b[0m \u001b[39m2,1,,,,,,7,6\u001b[39m\n\u001b[0;32m      9\u001b[0m \u001b[39m,,3,1,,7,9,,\u001b[39m\u001b[39m\"\"\"\u001b[39m\n\u001b[1;32m---> 10\u001b[0m sudoku_unsolved \u001b[39m=\u001b[39m sudoku_solver\u001b[39m.\u001b[39;49mCreateSudokuFromText(text)\n",
      "File \u001b[1;32mc:\\Users\\felipe\\Documents\\MyProjects\\SudokuSolver\\sudoku_solver.py:209\u001b[0m, in \u001b[0;36mCreateSudokuFromText\u001b[1;34m(text)\u001b[0m\n\u001b[0;32m    207\u001b[0m     sudoku\u001b[39m.\u001b[39mappend(sudoku_line)\n\u001b[0;32m    208\u001b[0m sudoku \u001b[39m=\u001b[39m np\u001b[39m.\u001b[39marray(sudoku, dtype\u001b[39m=\u001b[39m\u001b[39mobject\u001b[39m)\n\u001b[1;32m--> 209\u001b[0m sudoku\u001b[39m.\u001b[39mreshape((n, n))\n\u001b[0;32m    210\u001b[0m \u001b[39mreturn\u001b[39;00m sudoku\n",
      "\u001b[1;31mNameError\u001b[0m: name 'n' is not defined"
     ]
    }
   ],
   "source": [
    "text = \"\"\"1,8,,,,,,6,4\n",
    ",7,,6,,5,,8,\n",
    ",,6,,8,,7,,\n",
    ",,,7,,1,,,\n",
    ",3,,8,,9,,2,\n",
    ",,,,4,,,,\n",
    ",,7,,5,,8,,\n",
    "2,1,,,,,,7,6\n",
    ",,3,1,,7,9,,\"\"\"\n",
    "sudoku_unsolved = sudoku_solver.CreateSudokuFromText(text,3)"
   ]
  },
  {
   "cell_type": "code",
   "execution_count": null,
   "metadata": {},
   "outputs": [],
   "source": [
    "sudoku = copy.deepcopy(sudoku_unsolved)\n",
    "csp=sudoku_solver.Csp()\n",
    "sudoku_solver.SudokuToCsp(sudoku,csp,a)"
   ]
  },
  {
   "cell_type": "code",
   "execution_count": null,
   "metadata": {},
   "outputs": [
    {
     "name": "stdout",
     "output_type": "stream",
     "text": [
      "5 8 6 - 7 2 - - - \n",
      "- - - 9 - 1 6 - - \n",
      "- - - 6 - - - - - \n",
      "- - 7 - - - - - - \n",
      "9 - 2 - 1 - 3 - 5 \n",
      "- - 5 - 9 - - - - \n",
      "- 9 - - 4 - - - 8 \n",
      "- - 3 5 - - - 6 - \n",
      "- - - - 2 - 4 7 - \n"
     ]
    }
   ],
   "source": [
    "sudoku_solver.PrintSolvedSudoku(csp,sudoku)"
   ]
  },
  {
   "cell_type": "code",
   "execution_count": null,
   "metadata": {},
   "outputs": [
    {
     "name": "stdout",
     "output_type": "stream",
     "text": [
      "5 8 6 1 7 2 2 3 4 \n",
      "1 2 3 9 4 1 6 5 6 \n",
      "4 5 6 6 2 3 1 7 8 \n",
      "2 1 7 3 5 4 6 8 7 \n",
      "9 3 2 2 1 1 3 4 5 \n",
      "5 4 5 6 9 7 3 1 2 \n",
      "3 9 1 4 4 2 5 6 8 \n",
      "6 7 3 5 1 5 4 6 3 \n",
      "8 9 2 7 2 6 4 7 1 \n"
     ]
    }
   ],
   "source": [
    "\"Backtracking without heuristics\"\n",
    "sudoku = copy.deepcopy(sudoku_unsolved)\n",
    "csp=sudoku_solver.Csp()\n",
    "sudoku_solver.SudokuToCsp(sudoku,csp,a)\n",
    "sudoku_solver.Backtrack_Search(csp, ac_3=False, heuristics = False)\n",
    "sudoku_solver.PrintSolvedSudoku(csp,sudoku)\n",
    "\n"
   ]
  },
  {
   "cell_type": "code",
   "execution_count": null,
   "metadata": {},
   "outputs": [
    {
     "name": "stdout",
     "output_type": "stream",
     "text": [
      "5 8 6 9 7 2 8 7 6 \n",
      "9 8 7 9 6 1 6 5 4 \n",
      "6 5 4 6 8 7 9 3 2 \n",
      "8 9 7 7 5 6 4 2 3 \n",
      "9 7 2 8 1 9 3 6 5 \n",
      "5 6 5 4 9 3 7 9 8 \n",
      "7 9 9 6 4 8 5 4 8 \n",
      "4 3 3 5 9 5 6 6 7 \n",
      "2 1 8 3 2 4 4 7 9 \n"
     ]
    }
   ],
   "source": [
    "\"Backtracking with heuristics\"\n",
    "sudoku = copy.deepcopy(sudoku_unsolved)\n",
    "csp=sudoku_solver.Csp()\n",
    "sudoku_solver.SudokuToCsp(sudoku,csp,a)\n",
    "sudoku_solver.Backtrack_Search(csp, ac_3=False, heuristics = True)\n",
    "sudoku_solver.PrintSolvedSudoku(csp,sudoku)"
   ]
  },
  {
   "cell_type": "code",
   "execution_count": null,
   "metadata": {},
   "outputs": [
    {
     "name": "stdout",
     "output_type": "stream",
     "text": [
      "n_domain: (26, 495)\n",
      "n_domain: (81, 0)\n",
      "5 8 6 1 7 2 2 3 4 \n",
      "1 2 3 9 4 1 6 5 6 \n",
      "4 5 6 6 2 3 1 7 8 \n",
      "2 1 7 3 5 4 6 8 7 \n",
      "9 3 2 2 1 1 3 4 5 \n",
      "5 4 5 6 9 7 3 1 2 \n",
      "3 9 1 4 4 2 5 6 8 \n",
      "6 7 3 5 1 5 4 6 3 \n",
      "8 9 2 7 2 6 4 7 1 \n"
     ]
    }
   ],
   "source": [
    "\"AC_3 + Backtracking\"\n",
    "sudoku = copy.deepcopy(sudoku_unsolved)\n",
    "csp=sudoku_solver.Csp()\n",
    "sudoku_solver.SudokuToCsp(sudoku,csp,a)\n",
    "sudoku_solver.AC_3(csp)\n",
    "print(\"n_domain:\", sudoku_solver.n_domain_complete(csp))\n",
    "sudoku_solver.Backtrack_Search(csp, ac_3=True, heuristics = False)\n",
    "print(\"n_domain:\", sudoku_solver.n_domain_complete(csp))\n",
    "sudoku_solver.PrintSolvedSudoku(csp,sudoku)"
   ]
  },
  {
   "cell_type": "code",
   "execution_count": null,
   "metadata": {},
   "outputs": [
    {
     "name": "stdout",
     "output_type": "stream",
     "text": [
      "AC_3  Initial:  (26, 495)\n",
      "\n",
      "AC_3  True (26, 495) 0.015625\n",
      "NSO  False (26, 495) 0.0\n",
      "PS False (26, 495) 0.0\n",
      "SE False (26, 495) 0.0\n",
      "BCRI False (26, 495) 0.03125\n",
      "True\n",
      "{}\n",
      "(81, 0)\n",
      "5 8 6 1 7 2 2 3 4 \n",
      "1 2 3 9 4 1 6 5 6 \n",
      "4 5 6 6 2 3 1 7 8 \n",
      "2 1 7 3 5 4 6 8 7 \n",
      "9 3 2 2 1 1 3 4 5 \n",
      "5 4 5 6 9 7 3 1 2 \n",
      "3 9 1 4 4 2 5 6 8 \n",
      "6 7 3 5 1 5 4 6 3 \n",
      "8 9 2 7 2 6 4 7 1 \n"
     ]
    }
   ],
   "source": [
    "\"AC_3 + Heuristics + Backtracking\"\n",
    "sudoku = copy.deepcopy(sudoku_unsolved)\n",
    "csp=sudoku_solver.Csp()\n",
    "sudoku_solver.SudokuToCsp(sudoku,csp,a)\n",
    "print(sudoku_solver.AC_3_and_Heuristics(csp))\n",
    "print(sudoku_solver.Backtrack_Search(csp, ac_3=True, heuristics = False))\n",
    "print(sudoku_solver.n_domain_complete(csp))\n",
    "\n",
    "sudoku_solver.PrintSolvedSudoku(csp,sudoku)"
   ]
  },
  {
   "cell_type": "code",
   "execution_count": null,
   "metadata": {},
   "outputs": [],
   "source": []
  }
 ],
 "metadata": {
  "kernelspec": {
   "display_name": "Python 3",
   "language": "python",
   "name": "python3"
  },
  "language_info": {
   "codemirror_mode": {
    "name": "ipython",
    "version": 3
   },
   "file_extension": ".py",
   "mimetype": "text/x-python",
   "name": "python",
   "nbconvert_exporter": "python",
   "pygments_lexer": "ipython3",
   "version": "3.11.2"
  },
  "orig_nbformat": 4
 },
 "nbformat": 4,
 "nbformat_minor": 2
}
